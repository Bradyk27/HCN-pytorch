{
 "cells": [
  {
   "cell_type": "code",
   "execution_count": 9,
   "metadata": {},
   "outputs": [],
   "source": [
    "import glob\n",
    "import os\n",
    "import pandas as pd   "
   ]
  },
  {
   "cell_type": "code",
   "execution_count": 28,
   "metadata": {},
   "outputs": [
    {
     "name": "stdout",
     "output_type": "stream",
     "text": [
      "lidar_mocap/video08subject04.csv\n",
      "lidar_mocap/video18subject09.csv\n",
      "lidar_mocap/video09subject05.csv\n",
      "lidar_mocap/video19subject09.csv\n",
      "lidar_mocap/video02subject01.csv\n",
      "lidar_mocap/video11subject06.csv\n",
      "lidar_mocap/video20subject10.csv\n",
      "lidar_mocap/video05subject03.csv\n",
      "lidar_mocap/video15subject08.csv\n",
      "lidar_mocap/video10subject05.csv\n",
      "lidar_mocap/video04subject02.csv\n",
      "lidar_mocap/video03subject02.csv\n",
      "lidar_mocap/video17subject09.csv\n",
      "lidar_mocap/video12subject06.csv\n",
      "lidar_mocap/video01subject01.csv\n",
      "lidar_mocap/video07subject04.csv\n",
      "lidar_mocap/video06subject03.csv\n",
      "lidar_mocap/video13subject07.csv\n",
      "lidar_mocap/video14subject07.csv\n",
      "lidar_mocap/video16subject08.csv\n",
      "lidar_mocap/video22subject10.csv\n",
      "lidar_mocap/video19subject10.csv\n",
      "            0         1          2         3         4          5         6   \\\n",
      "0     1.083184 -0.314473  59.045187  1.084871  0.664921  59.137158  0.104892   \n",
      "1    -0.000000 -0.000000   0.000000  2.489213  0.455771  59.244457 -0.000000   \n",
      "2     0.947092  0.105232  59.275114 -0.000000 -0.000000   0.000000  0.035050   \n",
      "3    -0.000000 -0.000000   0.000000  1.013827 -0.314636  59.075844 -0.000000   \n",
      "4    -0.000000 -0.000000   0.000000  0.944888 -0.314963  59.137158 -0.000000   \n",
      "...        ...       ...        ...       ...       ...        ...       ...   \n",
      "6786  2.481485  0.174752  59.060515 -0.000000 -0.000000   0.000000  1.435945   \n",
      "6787 -0.000000 -0.000000   0.000000 -0.000000 -0.000000   0.000000 -0.000000   \n",
      "6788  1.717463 -0.315452  59.229128  1.716130  0.315208  59.183143  0.805948   \n",
      "6789 -0.000000 -0.000000   0.000000 -0.000000 -0.000000   0.000000 -0.000000   \n",
      "6790  1.996573  0.315248  59.190807  1.998900 -0.245479  59.259785  1.013696   \n",
      "\n",
      "            7          8         9   ...         29        30        31  \\\n",
      "0    -0.664318  59.083508  0.104579  ...  58.953216 -0.000000 -0.000000   \n",
      "1    -0.000000   0.000000  1.226125  ...  58.861245 -0.000000 -0.000000   \n",
      "2    -0.806156  59.229128 -0.000000  ...  59.144822 -2.410958 -0.314473   \n",
      "3    -0.000000   0.000000  0.104906  ...  59.060515 -0.000000 -0.000000   \n",
      "4    -0.000000   0.000000  0.035032  ...  59.014530 -0.000000 -0.000000   \n",
      "...        ...        ...       ...  ...        ...       ...       ...   \n",
      "6786  0.245161  59.183143 -0.000000  ...  59.045187 -1.428507  0.243891   \n",
      "6787 -0.000000   0.000000 -0.000000  ...   0.000000 -0.000000 -0.000000   \n",
      "6788 -0.525618  59.213800  0.804279  ...  59.167814 -1.492730 -0.451290   \n",
      "6789 -0.000000   0.000000 -0.000000  ...   0.000000 -0.000000 -0.000000   \n",
      "6790  0.174775  59.068179  1.015537  ...  58.999201 -1.497410  0.174117   \n",
      "\n",
      "             32        33        34         35        36        37         38  \n",
      "0      0.000000 -2.387800 -0.034606  58.478034 -2.872281 -0.242241  58.478034  \n",
      "1      0.000000 -2.120083 -0.173777  58.730954 -2.733499 -0.103804  58.470370  \n",
      "2     59.045187 -2.406577  0.174390  58.937888 -2.879057 -0.242812  58.615990  \n",
      "3      0.000000 -2.398440 -0.173800  58.738618 -2.879810 -0.242876  58.631319  \n",
      "4      0.000000 -2.411584 -0.524257  59.060515 -2.907667 -0.665610  59.198471  \n",
      "...         ...       ...       ...        ...       ...       ...        ...  \n",
      "6786  58.876574 -1.427763 -0.452705  58.845917 -1.991144 -0.034932  59.029858  \n",
      "6787   0.000000 -0.000000 -0.000000   0.000000 -0.000000 -0.000000   0.000000  \n",
      "6788  58.661976 -1.491950  0.173483  58.631319 -1.982871 -0.034787  58.784603  \n",
      "6789   0.000000 -0.000000 -0.000000   0.000000 -0.000000 -0.000000   0.000000  \n",
      "6790  58.845917 -1.497410 -0.522352  58.845917 -1.988042 -0.104634  58.937888  \n",
      "\n",
      "[6791 rows x 39 columns]\n"
     ]
    }
   ],
   "source": [
    "all_files = pd.DataFrame()\n",
    "for file in glob.glob(os.path.join('', \"lidar_mocap/*.csv\")):\n",
    "        print(file)\n",
    "        temp = pd.read_csv(file, header=None)\n",
    "        all_files = all_files.append(temp, ignore_index=True)\n",
    "print(all_files)"
   ]
  },
  {
   "cell_type": "code",
   "execution_count": 61,
   "metadata": {},
   "outputs": [
    {
     "name": "stdout",
     "output_type": "stream",
     "text": [
      "Max Z:  60.70065934065929 \n",
      "Min Z:  40.4364493284493\n"
     ]
    }
   ],
   "source": [
    "z_list = []\n",
    "for column in all_files.iloc[:, 2:39:3]:\n",
    "    for value in all_files[column].values.tolist():\n",
    "        z_list.append(value)\n",
    "z_list = [i for i in z_list if i != 0]\n",
    "print(\"Max Z: \", max(z_list), \"\\nMin Z: \", min(z_list))"
   ]
  },
  {
   "cell_type": "code",
   "execution_count": 62,
   "metadata": {},
   "outputs": [],
   "source": [
    "def z_norm(value):\n",
    "    return (value - 40.4364493284493) / (60.70065934065929 - 40.4364493284493)"
   ]
  },
  {
   "cell_type": "code",
   "execution_count": 63,
   "metadata": {},
   "outputs": [
    {
     "name": "stdout",
     "output_type": "stream",
     "text": [
      "Max X:  3.26020146520147 \n",
      "Min X:  -4.20012749848577\n"
     ]
    }
   ],
   "source": [
    "x_list = []\n",
    "for column in all_files.iloc[:, 0:39:3]:\n",
    "    for value in all_files[column].values.tolist():\n",
    "        x_list.append(value)\n",
    "x_list = [i for i in x_list if i != 0]\n",
    "print(\"Max X: \", max(x_list), \"\\nMin X: \", min(x_list))"
   ]
  },
  {
   "cell_type": "code",
   "execution_count": 64,
   "metadata": {},
   "outputs": [],
   "source": [
    "def x_norm(value):\n",
    "    return (value - -4.20012749848577) / (3.26020146520147 - -4.20012749848577)"
   ]
  },
  {
   "cell_type": "code",
   "execution_count": 66,
   "metadata": {},
   "outputs": [
    {
     "name": "stdout",
     "output_type": "stream",
     "text": [
      "Max Y:  3.49033226615904 \n",
      "Min Y:  -4.4617890311787995\n"
     ]
    }
   ],
   "source": [
    "y_list = []\n",
    "for column in all_files.iloc[:, 1:39:3]:\n",
    "    for value in all_files[column].values.tolist():\n",
    "        y_list.append(value)\n",
    "y_list = [i for i in y_list if i != 0]\n",
    "print(\"Max Y: \", max(y_list), \"\\nMin Y: \", min(y_list))"
   ]
  },
  {
   "cell_type": "code",
   "execution_count": 67,
   "metadata": {},
   "outputs": [],
   "source": [
    "def y_norm(value):\n",
    "    return (value - -4.4617890311787995) / (3.49033226615904  - -4.4617890311787995)"
   ]
  },
  {
   "cell_type": "code",
   "execution_count": 91,
   "metadata": {},
   "outputs": [
    {
     "name": "stdout",
     "output_type": "stream",
     "text": [
      "           0         1         2         3         4         5         6   \\\n",
      "0    0.902415  0.565444  0.897126  0.902148  0.486985  0.894856  0.726837   \n",
      "1    0.903924  0.574226  0.909985  0.904012  0.504108  0.910741  0.726305   \n",
      "2    0.901793  0.574144  0.891831  0.902503  0.504360  0.897882  0.725411   \n",
      "3    0.904190  0.556697  0.912254  0.903391  0.495463  0.905446  0.745419   \n",
      "4    0.902770  0.574181  0.900151  0.903569  0.504182  0.906959  0.754226   \n",
      "..        ...       ...       ...       ...       ...       ...       ...   \n",
      "210  0.900728  0.487295  0.882753  0.900994  0.556738  0.885023  0.724773   \n",
      "211  0.902060  0.487005  0.894100  0.902060  0.556724  0.894100  0.725581   \n",
      "212  0.902858  0.486830  0.900908  0.903302  0.556708  0.904690  0.725858   \n",
      "213  0.899929  0.478810  0.875946  0.900373  0.565417  0.879728  0.724518   \n",
      "214  0.901172  0.487198  0.886536  0.901261  0.556734  0.887292  0.743878   \n",
      "\n",
      "           7         8         9   ...        29        30        31  \\\n",
      "0    0.556690  0.916793  0.725560  ...  0.878971  0.562995  0.561082   \n",
      "1    0.574214  0.907337  0.726305  ...  0.894100  0.261562  0.582835   \n",
      "2    0.574142  0.891452  0.725433  ...  0.878215  0.263380  0.582704   \n",
      "3    0.565470  0.914523  0.744756  ...  0.888805  0.326672  0.591512   \n",
      "4    0.565457  0.906203  0.753952  ...  0.891831  0.345779  0.600104   \n",
      "..        ...       ...       ...  ...       ...       ...       ...   \n",
      "210  0.487363  0.880106  0.724688  ...  0.870651  0.264012  0.470461   \n",
      "211  0.486995  0.894478  0.725284  ...  0.886914  0.263538  0.556760   \n",
      "212  0.478138  0.899395  0.725730  ...  0.888048  0.262669  0.470054   \n",
      "213  0.470162  0.875567  0.724475  ...  0.867625  0.264407  0.461962   \n",
      "214  0.487111  0.889939  0.744092  ...  0.869138  0.319402  0.453285   \n",
      "\n",
      "           32        33        34        35        36        37        38  \n",
      "0   -1.995461  0.263459  0.539465  0.871407  0.172328  0.539522  0.863843  \n",
      "1    0.889561  0.261562  0.495822  0.889561  0.172586  0.539537  0.861952  \n",
      "2    0.872163  0.263380  0.496216  0.872163  0.172999  0.539559  0.858926  \n",
      "3    0.887292  0.326734  0.487198  0.886536  0.234040  0.539348  0.886914  \n",
      "4    0.879728  0.345722  0.478680  0.880484  0.262353  0.539386  0.881997  \n",
      "..        ...       ...       ...       ...       ...       ...       ...  \n",
      "210  0.866112  0.264447  0.556773  0.861952  0.176772  0.522716  0.831316  \n",
      "211  0.870651  0.263222  0.470221  0.873676  0.170674  0.513451  0.875946  \n",
      "212  0.878971  0.262906  0.556750  0.876702  0.174550  0.513921  0.847579  \n",
      "213  0.862330  0.264803  0.556778  0.858548  0.175532  0.514040  0.840393  \n",
      "214  0.863843  0.319370  0.565394  0.864221  0.227037  0.513589  0.867625  \n",
      "\n",
      "[215 rows x 39 columns]\n"
     ]
    }
   ],
   "source": [
    "file = pd.read_csv(\"lidar_mocap/video01subject01.csv\", header = None)\n",
    "for column in file.iloc[:, 0:39:3]:\n",
    "    file[column] = file[column].apply(x_norm)\n",
    "for column in file.iloc[:, 1:39:3]:\n",
    "    file[column] = file[column].apply(y_norm)\n",
    "for column in file.iloc[:, 2:39:3]:\n",
    "    file[column] = file[column].apply(z_norm)"
   ]
  },
  {
   "cell_type": "code",
   "execution_count": 95,
   "metadata": {},
   "outputs": [],
   "source": [
    "for name in glob.glob(os.path.join('', \"lidar_mocap/*.csv\")):\n",
    "    file = pd.read_csv(name, header=None)\n",
    "    for column in file.iloc[:, 0:39:3]:\n",
    "        file[column] = file[column].apply(x_norm)\n",
    "    for column in file.iloc[:, 1:39:3]:\n",
    "        file[column] = file[column].apply(y_norm)\n",
    "    for column in file.iloc[:, 2:39:3]:\n",
    "        file[column] = file[column].apply(z_norm)\n",
    "    file.to_csv(\"lidar_mocap_normalized/{}\".format(name[11::]), header=False, index=False)"
   ]
  },
  {
   "cell_type": "code",
   "execution_count": null,
   "metadata": {},
   "outputs": [],
   "source": []
  }
 ],
 "metadata": {
  "kernelspec": {
   "display_name": "Python 3",
   "language": "python",
   "name": "python3"
  },
  "language_info": {
   "codemirror_mode": {
    "name": "ipython",
    "version": 3
   },
   "file_extension": ".py",
   "mimetype": "text/x-python",
   "name": "python",
   "nbconvert_exporter": "python",
   "pygments_lexer": "ipython3",
   "version": "3.7.0"
  }
 },
 "nbformat": 4,
 "nbformat_minor": 2
}
